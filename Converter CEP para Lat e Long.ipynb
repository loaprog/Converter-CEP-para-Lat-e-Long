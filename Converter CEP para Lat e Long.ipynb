{
 "cells": [
  {
   "cell_type": "markdown",
   "id": "fce58d82",
   "metadata": {},
   "source": [
    "## Pegar dados e dissolver CEPs"
   ]
  },
  {
   "cell_type": "code",
   "execution_count": null,
   "id": "cf6ddb50",
   "metadata": {},
   "outputs": [],
   "source": [
    "import pandas as pd\n",
    "import requests\n",
    "import os\n",
    "import time\n",
    "\n",
    "# Define o caminho do arquivo da planilha\n",
    "caminho_planilha = r'C:\\Users\\Usuario\\Desktop\\arquivo1.xlsx'\n",
    "\n",
    "# Carrega a planilha usando o pandas\n",
    "df = pd.read_excel(caminho_planilha)\n",
    "\n",
    "# Obtém o número de linhas antes da dissolução\n",
    "num_linhas_antes = df.shape[0]\n",
    "\n",
    "# Obtém os valores únicos do campo CEP\n",
    "cep_unicos = df['CEP'].unique()\n",
    "\n",
    "# Obtém o número de linhas depois da dissolução\n",
    "num_linhas_depois = len(cep_unicos)\n",
    "\n",
    "# Imprime o número de linhas antes e depois da dissolução\n",
    "print(f\"Número de linhas antes da dissolução: {num_linhas_antes}\")\n",
    "print(f\"Número de linhas depois da dissolução: {num_linhas_depois}\")\n",
    "\n",
    "# Dataset\n",
    "csv_dissolved = pd.DataFrame({'CEP': cep_unicos})"
   ]
  },
  {
   "cell_type": "markdown",
   "id": "155a6e89",
   "metadata": {},
   "source": [
    "## Converter CEP para Lat e Long"
   ]
  },
  {
   "cell_type": "code",
   "execution_count": null,
   "id": "2032d630",
   "metadata": {},
   "outputs": [],
   "source": [
    "# Função para obter latitude e longitude do CEP usando a API do MapQuest\n",
    "def obter_latitude_longitude(cep, chave_api):\n",
    "    url = f\"http://www.mapquestapi.com/geocoding/v1/address?key={chave_api}&location={cep}\"\n",
    "    response = requests.get(url)\n",
    "    data = response.json()\n",
    "    \n",
    "    if response.status_code == 200:\n",
    "        results = data[\"results\"][0][\"locations\"][0][\"latLng\"]\n",
    "        latitude = results[\"lat\"]\n",
    "        longitude = results[\"lng\"]\n",
    "        return latitude, longitude\n",
    "    else:\n",
    "        return None, None\n",
    "\n",
    "# Ler a planilha usando pandas\n",
    "planilha = csv_dissolved\n",
    "\n",
    "# Converter CEPs para latitude e longitude\n",
    "planilha[\"Latitude\"] = \"\"\n",
    "planilha[\"Longitude\"] = \"\"\n",
    "\n",
    "# Definir o número de linhas por lote\n",
    "linhas_por_lote = 100\n",
    "\n",
    "# Percorrer as linhas em lotes\n",
    "for i in range(0, len(planilha), linhas_por_lote):\n",
    "    # Obter as linhas do lote atual\n",
    "    lote = planilha.iloc[i:i+linhas_por_lote]\n",
    "\n",
    "    # Processar cada linha do lote\n",
    "    for index, row in lote.iterrows():\n",
    "        cep = row[\"CEP\"]\n",
    "        latitude, longitude = obter_latitude_longitude(cep, \"dSnLUo3ZbQ7hfKPASUdmN1iQuFl59Sbc\")\n",
    "        planilha.at[index, \"Latitude\"] = latitude\n",
    "        planilha.at[index, \"Longitude\"] = longitude\n",
    "\n",
    "    # Aguardar alguns segundos antes do próximo lote\n",
    "    time.sleep(5)  # Aguarda 5 segundos\n",
    "\n",
    "# Dataset final    \n",
    "dataset = planilha\n",
    "\n",
    "print(\"Convertido com sucesso\")\n"
   ]
  },
  {
   "cell_type": "markdown",
   "id": "eb3bad9f",
   "metadata": {},
   "source": [
    "## Verificar caso ele encontrou alguma coordenada incorreta"
   ]
  },
  {
   "cell_type": "code",
   "execution_count": null,
   "id": "7388cc70",
   "metadata": {},
   "outputs": [],
   "source": [
    "# Converter a coluna \"Latitude\" para o tipo numérico (float)\n",
    "dataset.loc[:, 'Latitude'] = dataset['Latitude'].astype(float)\n",
    "\n",
    "# Contar o número de linhas do DataFrame original\n",
    "total_linhas_original = dataset.shape[0]\n",
    "\n",
    "# Filtrar as linhas em que os valores da coluna \"Latitude\" são negativos\n",
    "dataset = dataset.loc[dataset['Latitude'] < 0]\n",
    "\n",
    "# Contar o número de linhas do DataFrame filtrado\n",
    "total_linhas_filtradas = dataset.shape[0]\n",
    "\n",
    "# Dataset filtrado\n",
    "resultado = dataset\n",
    "\n",
    "# Exibir o resultado\n",
    "print(\"Foram encontrado e deletados {} coordenadas incorretas\".format(total_linhas_original - total_linhas_filtradas))"
   ]
  },
  {
   "cell_type": "markdown",
   "id": "e2d1e361",
   "metadata": {},
   "source": [
    "## Juntar resultado com a planilha completa"
   ]
  },
  {
   "cell_type": "code",
   "execution_count": null,
   "id": "c81d62e7",
   "metadata": {},
   "outputs": [],
   "source": [
    "# Juntar resultado com a planilha completa\n",
    "planilha_completa = df.merge(resultado, on='CEP', how='left')\n",
    "\n",
    "# Salvar a planilha completa com as novas colunas de latitude e longitude na área de trabalho\n",
    "caminho_salvar = os.path.expanduser(\"~/Desktop/nova_planilha.xlsx\")\n",
    "planilha_completa.to_excel(caminho_salvar, index=False)\n",
    "\n",
    "print(f\"A nova planilha foi salva em: {caminho_salvar}\")"
   ]
  }
 ],
 "metadata": {
  "kernelspec": {
   "display_name": "Python 3 (ipykernel)",
   "language": "python",
   "name": "python3"
  },
  "language_info": {
   "codemirror_mode": {
    "name": "ipython",
    "version": 3
   },
   "file_extension": ".py",
   "mimetype": "text/x-python",
   "name": "python",
   "nbconvert_exporter": "python",
   "pygments_lexer": "ipython3",
   "version": "3.9.13"
  }
 },
 "nbformat": 4,
 "nbformat_minor": 5
}
